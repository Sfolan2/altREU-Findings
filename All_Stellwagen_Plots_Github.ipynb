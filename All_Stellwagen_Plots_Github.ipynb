{
 "cells": [
  {
   "cell_type": "markdown",
   "id": "c94aa5b0",
   "metadata": {},
   "source": [
    "# Import Libraries"
   ]
  },
  {
   "cell_type": "code",
   "execution_count": 2,
   "id": "a487de16",
   "metadata": {},
   "outputs": [],
   "source": [
    "import numpy as np\n",
    "from pyproj import CRS, Transformer, Proj, transform\n",
    "import pandas as pd\n",
    "import matplotlib.pyplot as plt\n",
    "import geopandas as gpd\n",
    "from shapely.geometry import Point, Polygon\n",
    "from matplotlib import animation, rc\n",
    "from IPython.display import HTML\n",
    "plt.rcParams['animation.ffmpeg_path'] = '/usr/local/bin/ffmpeg'\n",
    "import pyodbc as pyo\n",
    "import datetime\n",
    "from datetime import date, timedelta\n",
    "import time\n",
    "import seaborn as sns\n",
    "\n",
    "%matplotlib inline"
   ]
  },
  {
   "cell_type": "markdown",
   "id": "716cece3",
   "metadata": {},
   "source": [
    "# Read Shape Files"
   ]
  },
  {
   "cell_type": "code",
   "execution_count": 3,
   "id": "0f3278c6",
   "metadata": {},
   "outputs": [],
   "source": [
    "Massachusetts=gpd.read_file('/Users/sfolan/Downloads/final_stellwagen_shp/Massachusetts.shp')\n",
    "Bathymetry=gpd.read_file('/Users/sfolan/Downloads/final_stellwagen_shp/bathymetry.shp')\n",
    "Stellwagen=gpd.read_file('/Users/sfolan/Downloads/stellb/stellba1.shp')"
   ]
  },
  {
   "cell_type": "markdown",
   "id": "ea3cb12c",
   "metadata": {},
   "source": [
    "# Read AIS csv + Whale Data"
   ]
  },
  {
   "cell_type": "code",
   "execution_count": 4,
   "id": "0c1bfc2c",
   "metadata": {},
   "outputs": [],
   "source": [
    "ship_traffic04=pd.read_csv('/Users/sfolan/Downloads/AIS_ASCII_by_UTM_Month-2/2016/AIS_2016_04_Zone19.csv')\n",
    "ship_traffic05=pd.read_csv('/Users/sfolan/Downloads/AIS_ASCII_by_UTM_Month-6/2016/AIS_2016_05_Zone19.csv')\n",
    "ship_traffic06=pd.read_csv('/Users/sfolan/Downloads/AIS_ASCII_by_UTM_Month-7/2016/AIS_2016_06_Zone19.csv')\n",
    "ship_traffic07=pd.read_csv('/Users/sfolan/Downloads/AIS_ASCII_by_UTM_Month-9/2016/AIS_2016_07_Zone19.csv')\n",
    "ship_traffic08=pd.read_csv('/Users/sfolan/Downloads/AIS_ASCII_by_UTM_Month-8/2016/AIS_2016_08_Zone19.csv')\n",
    "ship_traffic09=pd.read_csv('/Users/sfolan/Downloads/AIS_ASCII_by_UTM_Month-5/2016/AIS_2016_09_Zone19.csv')\n",
    "ship_traffic10=pd.read_csv('/Users/sfolan/Downloads/AIS_ASCII_by_UTM_Month-4/2016/AIS_2016_10_Zone19.csv')\n",
    "ship_traffic11=pd.read_csv('/Users/sfolan/Downloads/AIS_ASCII_by_UTM_Month-3/2016/AIS_2016_11_Zone19.csv')"
   ]
  },
  {
   "cell_type": "code",
   "execution_count": 5,
   "id": "265f4f4d",
   "metadata": {},
   "outputs": [],
   "source": [
    "df=pd.read_csv('/Users/sfolan/Downloads/BHC Sightings Database.xlsx - Sightings Data.csv')"
   ]
  },
  {
   "cell_type": "code",
   "execution_count": 6,
   "id": "3a0d1be2",
   "metadata": {},
   "outputs": [
    {
     "data": {
      "text/html": [
       "<div>\n",
       "<style scoped>\n",
       "    .dataframe tbody tr th:only-of-type {\n",
       "        vertical-align: middle;\n",
       "    }\n",
       "\n",
       "    .dataframe tbody tr th {\n",
       "        vertical-align: top;\n",
       "    }\n",
       "\n",
       "    .dataframe thead th {\n",
       "        text-align: right;\n",
       "    }\n",
       "</style>\n",
       "<table border=\"1\" class=\"dataframe\">\n",
       "  <thead>\n",
       "    <tr style=\"text-align: right;\">\n",
       "      <th></th>\n",
       "      <th>Date</th>\n",
       "      <th>Trip No</th>\n",
       "      <th>St</th>\n",
       "      <th>Sp</th>\n",
       "      <th>New min</th>\n",
       "      <th>New max</th>\n",
       "      <th>Total min</th>\n",
       "      <th>Total max</th>\n",
       "      <th>Start</th>\n",
       "      <th>End</th>\n",
       "      <th>...</th>\n",
       "      <th>Dist. (nm)</th>\n",
       "      <th>Decimal lat</th>\n",
       "      <th>Decimal long</th>\n",
       "      <th>Major</th>\n",
       "      <th>Minor</th>\n",
       "      <th>C</th>\n",
       "      <th>S</th>\n",
       "      <th>F/S</th>\n",
       "      <th>B</th>\n",
       "      <th>Comment &amp;F/S Description</th>\n",
       "    </tr>\n",
       "  </thead>\n",
       "  <tbody>\n",
       "    <tr>\n",
       "      <th>21672</th>\n",
       "      <td>4/13/2018</td>\n",
       "      <td>104HH</td>\n",
       "      <td>6</td>\n",
       "      <td>LA</td>\n",
       "      <td>0</td>\n",
       "      <td>0</td>\n",
       "      <td>50</td>\n",
       "      <td>100</td>\n",
       "      <td>11:28</td>\n",
       "      <td>11:29</td>\n",
       "      <td>...</td>\n",
       "      <td>-</td>\n",
       "      <td>42.40483</td>\n",
       "      <td>-70.483</td>\n",
       "      <td>X</td>\n",
       "      <td>X</td>\n",
       "      <td>N</td>\n",
       "      <td>X</td>\n",
       "      <td>-</td>\n",
       "      <td>A</td>\n",
       "      <td>Effort deleted off network- could not go back ...</td>\n",
       "    </tr>\n",
       "  </tbody>\n",
       "</table>\n",
       "<p>1 rows × 21 columns</p>\n",
       "</div>"
      ],
      "text/plain": [
       "            Date Trip No  St  Sp  New min  New max  Total min  Total max  \\\n",
       "21672  4/13/2018   104HH   6  LA        0        0         50        100   \n",
       "\n",
       "       Start    End  ... Dist. (nm) Decimal lat  Decimal long  Major Minor  C  \\\n",
       "21672  11:28  11:29  ...          -    42.40483       -70.483      X     X  N   \n",
       "\n",
       "       S F/S  B                           Comment &F/S Description  \n",
       "21672  X   -  A  Effort deleted off network- could not go back ...  \n",
       "\n",
       "[1 rows x 21 columns]"
      ]
     },
     "execution_count": 6,
     "metadata": {},
     "output_type": "execute_result"
    }
   ],
   "source": [
    "#df[df[\"Date\"]==\"4/13/2018\"]"
   ]
  },
  {
   "cell_type": "code",
   "execution_count": 7,
   "id": "deea6b1e",
   "metadata": {},
   "outputs": [
    {
     "data": {
      "text/plain": [
       "0        2013-03-30\n",
       "1        2013-03-30\n",
       "2        2013-03-30\n",
       "3        2013-03-30\n",
       "4        2013-03-30\n",
       "            ...    \n",
       "33297    2019-11-15\n",
       "33298    2019-11-15\n",
       "33299    2019-11-15\n",
       "33300    2019-11-15\n",
       "33301    2019-11-15\n",
       "Name: Date, Length: 33302, dtype: object"
      ]
     },
     "execution_count": 7,
     "metadata": {},
     "output_type": "execute_result"
    }
   ],
   "source": [
    "df[\"Date\"].replace(\"4/13/2018\", \"2018-04-13\")\n",
    "#df[df[\"Date\"]==\"2018-04-13\"]"
   ]
  },
  {
   "cell_type": "code",
   "execution_count": 8,
   "id": "655b5c26",
   "metadata": {},
   "outputs": [],
   "source": [
    "df[\"Month\"]=pd.DatetimeIndex(df[\"Date\"]).month\n",
    "#df[\"Month\"]"
   ]
  },
  {
   "cell_type": "code",
   "execution_count": 9,
   "id": "8231aded",
   "metadata": {},
   "outputs": [],
   "source": [
    "new_df=df.groupby(\"Month\")\n",
    "#new_df.first()"
   ]
  },
  {
   "cell_type": "code",
   "execution_count": 10,
   "id": "f54d9c5e",
   "metadata": {},
   "outputs": [],
   "source": [
    "#Split into months\n",
    "count=0\n",
    "df04=new_df.get_group(4)\n",
    "df05=new_df.get_group(5)\n",
    "df06=new_df.get_group(6)\n",
    "df07=new_df.get_group(7)\n",
    "df08=new_df.get_group(8)\n",
    "df09=new_df.get_group(9)\n",
    "df10=new_df.get_group(10)\n",
    "df11=new_df.get_group(11)\n",
    "#df11"
   ]
  },
  {
   "cell_type": "code",
   "execution_count": 11,
   "id": "ab0a7186",
   "metadata": {},
   "outputs": [],
   "source": [
    "Whale_list=[df04, df05, df06, df07, df08, df09, df10, df11]"
   ]
  },
  {
   "cell_type": "code",
   "execution_count": 12,
   "id": "4ce8b138",
   "metadata": {},
   "outputs": [],
   "source": [
    "AIS_list=[ship_traffic04,ship_traffic05,ship_traffic06, ship_traffic07, ship_traffic08, ship_traffic09, ship_traffic10, ship_traffic11]"
   ]
  },
  {
   "cell_type": "markdown",
   "id": "b5558a17",
   "metadata": {},
   "source": [
    "# Convert to UTM 'epsg:26986'"
   ]
  },
  {
   "cell_type": "code",
   "execution_count": 13,
   "id": "59c465b2",
   "metadata": {},
   "outputs": [
    {
     "name": "stdout",
     "output_type": "stream",
     "text": [
      "[10, 10, 10, 10, 10, 10, 10, 10, 10, 10, 10]\n"
     ]
    }
   ],
   "source": [
    "x=[0,1,2,3,4,5,6,7,8,9,0]\n",
    "count=0\n",
    "for i in x:\n",
    "    x[count]=10\n",
    "    count+=1\n",
    "print(x)"
   ]
  },
  {
   "cell_type": "code",
   "execution_count": 14,
   "id": "62f5cd1f",
   "metadata": {},
   "outputs": [
    {
     "name": "stderr",
     "output_type": "stream",
     "text": [
      "<ipython-input-14-899033a63a8b>:6: DeprecationWarning: This function is deprecated. See: https://pyproj4.github.io/pyproj/stable/gotchas.html#upgrading-to-pyproj-2-from-pyproj-1\n",
      "  xx, yy=transform(inProj, outProj,x[\"Decimal lat\"].values, x[\"Decimal long\"].values)\n",
      "<ipython-input-14-899033a63a8b>:7: SettingWithCopyWarning: \n",
      "A value is trying to be set on a copy of a slice from a DataFrame.\n",
      "Try using .loc[row_indexer,col_indexer] = value instead\n",
      "\n",
      "See the caveats in the documentation: https://pandas.pydata.org/pandas-docs/stable/user_guide/indexing.html#returning-a-view-versus-a-copy\n",
      "  Whale_list[count][\"x-coordinates\"]=xx\n",
      "<ipython-input-14-899033a63a8b>:8: SettingWithCopyWarning: \n",
      "A value is trying to be set on a copy of a slice from a DataFrame.\n",
      "Try using .loc[row_indexer,col_indexer] = value instead\n",
      "\n",
      "See the caveats in the documentation: https://pandas.pydata.org/pandas-docs/stable/user_guide/indexing.html#returning-a-view-versus-a-copy\n",
      "  Whale_list[count][\"y-coordinates\"]=yy\n"
     ]
    }
   ],
   "source": [
    "#For whale Data\n",
    "inProj=Proj('epsg:4326')\n",
    "outProj=Proj('epsg:26986')\n",
    "count=0\n",
    "for x in Whale_list:\n",
    "    xx, yy=transform(inProj, outProj,x[\"Decimal lat\"].values, x[\"Decimal long\"].values)\n",
    "    Whale_list[count][\"x-coordinates\"]=xx\n",
    "    Whale_list[count][\"y-coordinates\"]=yy\n",
    "    count+=1"
   ]
  },
  {
   "cell_type": "code",
   "execution_count": 15,
   "id": "4e4ca969",
   "metadata": {},
   "outputs": [
    {
     "name": "stderr",
     "output_type": "stream",
     "text": [
      "<ipython-input-15-f533b8e87031>:6: DeprecationWarning: This function is deprecated. See: https://pyproj4.github.io/pyproj/stable/gotchas.html#upgrading-to-pyproj-2-from-pyproj-1\n",
      "  xxx,yyy=transform(inProj, outProj, x[\"LAT\"].values, x[\"LON\"].values)\n"
     ]
    }
   ],
   "source": [
    "#For AIS data\n",
    "inProj=Proj('epsg:4269')\n",
    "outProj=Proj('epsg:26986')\n",
    "count=0\n",
    "for x in AIS_list:\n",
    "    xxx,yyy=transform(inProj, outProj, x[\"LAT\"].values, x[\"LON\"].values)\n",
    "    AIS_list[count][\"x-coordinates\"]=xxx\n",
    "    AIS_list[count][\"y-coordinates\"]=yyy\n",
    "    count+=1"
   ]
  },
  {
   "cell_type": "code",
   "execution_count": null,
   "id": "9d663d39",
   "metadata": {},
   "outputs": [],
   "source": [
    "ship_traffic04=ship_traffic04[(ship_traffic04['x-coordinates']>=175000)&(ship_traffic04['x-coordinates']<=375000)&(ship_traffic04['y-coordinates']>=800000)&(ship_traffic04['y-coordinates']<=950000)].sample(1000000)\n",
    "ship_traffic05=ship_traffic05[(ship_traffic05['x-coordinates']>=175000)&(ship_traffic05['x-coordinates']<=375000)&(ship_traffic05['y-coordinates']>=800000)&(ship_traffic05['y-coordinates']<=950000)].sample(1000000)\n",
    "ship_traffic06=ship_traffic06[(ship_traffic06['x-coordinates']>=175000)&(ship_traffic06['x-coordinates']<=375000)&(ship_traffic06['y-coordinates']>=800000)&(ship_traffic06['y-coordinates']<=950000)].sample(1000000)\n",
    "ship_traffic07=ship_traffic07[(ship_traffic07['x-coordinates']>=175000)&(ship_traffic07['x-coordinates']<=375000)&(ship_traffic07['y-coordinates']>=800000)&(ship_traffic07['y-coordinates']<=950000)].sample(1000000)\n",
    "ship_traffic08=ship_traffic08[(ship_traffic08['x-coordinates']>=175000)&(ship_traffic08['x-coordinates']<=375000)&(ship_traffic08['y-coordinates']>=800000)&(ship_traffic08['y-coordinates']<=950000)].sample(1000000)\n",
    "ship_traffic09=ship_traffic09[(ship_traffic09['x-coordinates']>=175000)&(ship_traffic09['x-coordinates']<=375000)&(ship_traffic09['y-coordinates']>=800000)&(ship_traffic09['y-coordinates']<=950000)].sample(1000000)\n",
    "ship_traffic10=ship_traffic10[(ship_traffic10['x-coordinates']>=175000)&(ship_traffic10['x-coordinates']<=375000)&(ship_traffic10['y-coordinates']>=800000)&(ship_traffic10['y-coordinates']<=950000)].sample(1000000)\n",
    "ship_traffic11=ship_traffic11[(ship_traffic11['x-coordinates']>=175000)&(ship_traffic11['x-coordinates']<=375000)&(ship_traffic11['y-coordinates']>=800000)&(ship_traffic11['y-coordinates']<=950000)].sample(1000000)"
   ]
  },
  {
   "cell_type": "markdown",
   "id": "06dac8c6",
   "metadata": {},
   "source": [
    "# Create POINTS"
   ]
  },
  {
   "cell_type": "code",
   "execution_count": null,
   "id": "1d01157d",
   "metadata": {},
   "outputs": [],
   "source": [
    "#For Whale Data\n",
    "\n",
    "#df04\n",
    "geometry=[Point(xy) for xy in zip(df04[\"x-coordinates\"], df04[\"y-coordinates\"])]\n",
    "geometry[:3]\n",
    "crs=CRS.from_epsg(2698)\n",
    "geo_df04=gpd.GeoDataFrame(df04, crs=crs, geometry=geometry)\n",
    "#df05\n",
    "geometry=[Point(xy) for xy in zip(df05[\"x-coordinates\"], df05[\"y-coordinates\"])]\n",
    "geometry[:3]\n",
    "crs=CRS.from_epsg(2698)\n",
    "geo_df05=gpd.GeoDataFrame(df05, crs=crs, geometry=geometry)\n",
    "#df06\n",
    "geometry=[Point(xy) for xy in zip(df06[\"x-coordinates\"], df06[\"y-coordinates\"])]\n",
    "geometry[:3]\n",
    "crs=CRS.from_epsg(2698)\n",
    "geo_df06=gpd.GeoDataFrame(df06, crs=crs, geometry=geometry)\n",
    "#df07\n",
    "geometry=[Point(xy) for xy in zip(df07[\"x-coordinates\"], df07[\"y-coordinates\"])]\n",
    "geometry[:3]\n",
    "crs=CRS.from_epsg(2698)\n",
    "geo_df07=gpd.GeoDataFrame(df07, crs=crs, geometry=geometry)\n",
    "#df08\n",
    "geometry=[Point(xy) for xy in zip(df08[\"x-coordinates\"], df08[\"y-coordinates\"])]\n",
    "geometry[:3]\n",
    "crs=CRS.from_epsg(2698)\n",
    "geo_df08=gpd.GeoDataFrame(df08, crs=crs, geometry=geometry)\n",
    "#df09\n",
    "geometry=[Point(xy) for xy in zip(df09[\"x-coordinates\"], df09[\"y-coordinates\"])]\n",
    "geometry[:3]\n",
    "crs=CRS.from_epsg(2698)\n",
    "geo_df09=gpd.GeoDataFrame(df09, crs=crs, geometry=geometry)\n",
    "#df10\n",
    "geometry=[Point(xy) for xy in zip(df10[\"x-coordinates\"], df10[\"y-coordinates\"])]\n",
    "geometry[:3]\n",
    "crs=CRS.from_epsg(2698)\n",
    "geo_df10=gpd.GeoDataFrame(df10, crs=crs, geometry=geometry)\n",
    "#df11\n",
    "geometry=[Point(xy) for xy in zip(df11[\"x-coordinates\"], df11[\"y-coordinates\"])]\n",
    "geometry[:3]\n",
    "crs=CRS.from_epsg(2698)\n",
    "geo_df11=gpd.GeoDataFrame(df11, crs=crs, geometry=geometry)\n",
    "geo_df10"
   ]
  },
  {
   "cell_type": "code",
   "execution_count": null,
   "id": "9d6626b5",
   "metadata": {},
   "outputs": [],
   "source": [
    "#For AIS data\n",
    "\n",
    "#ship_traffic04\n",
    "AIS=[Point(xy) for xy in zip(ship_traffic04[\"x-coordinates\"], ship_traffic04[\"y-coordinates\"])]\n",
    "AIS[:3]\n",
    "crs=CRS.from_epsg(2698)\n",
    "geo_ship_traffic04=gpd.GeoDataFrame(ship_traffic04, crs=crs, geometry=AIS)\n",
    "#ship_traffic05\n",
    "AIS=[Point(xy) for xy in zip(ship_traffic05[\"x-coordinates\"], ship_traffic05[\"y-coordinates\"])]\n",
    "AIS[:3]\n",
    "crs=CRS.from_epsg(2698)\n",
    "geo_ship_traffic05=gpd.GeoDataFrame(ship_traffic05, crs=crs, geometry=AIS)\n",
    "#ship_traffic06\n",
    "AIS=[Point(xy) for xy in zip(ship_traffic06[\"x-coordinates\"], ship_traffic06[\"y-coordinates\"])]\n",
    "AIS[:3]\n",
    "crs=CRS.from_epsg(2698)\n",
    "geo_ship_traffic06=gpd.GeoDataFrame(ship_traffic06, crs=crs, geometry=AIS)\n",
    "#ship_traffic07\n",
    "AIS=[Point(xy) for xy in zip(ship_traffic07[\"x-coordinates\"], ship_traffic07[\"y-coordinates\"])]\n",
    "AIS[:3]\n",
    "crs=CRS.from_epsg(2698)\n",
    "geo_ship_traffic07=gpd.GeoDataFrame(ship_traffic07, crs=crs, geometry=AIS)\n",
    "#ship_traffic08\n",
    "AIS=[Point(xy) for xy in zip(ship_traffic08[\"x-coordinates\"], ship_traffic08[\"y-coordinates\"])]\n",
    "AIS[:3]\n",
    "crs=CRS.from_epsg(2698)\n",
    "geo_ship_traffic08=gpd.GeoDataFrame(ship_traffic08, crs=crs, geometry=AIS)\n",
    "#ship_traffic09\n",
    "AIS=[Point(xy) for xy in zip(ship_traffic09[\"x-coordinates\"], ship_traffic09[\"y-coordinates\"])]\n",
    "AIS[:3]\n",
    "crs=CRS.from_epsg(2698)\n",
    "geo_ship_traffic09=gpd.GeoDataFrame(ship_traffic09, crs=crs, geometry=AIS)\n",
    "#ship_traffic10\n",
    "AIS=[Point(xy) for xy in zip(ship_traffic10[\"x-coordinates\"], ship_traffic10[\"y-coordinates\"])]\n",
    "AIS[:3]\n",
    "crs=CRS.from_epsg(2698)\n",
    "geo_ship_traffic10=gpd.GeoDataFrame(ship_traffic10, crs=crs, geometry=AIS)\n",
    "#ship_traffic11\n",
    "AIS=[Point(xy) for xy in zip(ship_traffic11[\"x-coordinates\"], ship_traffic11[\"y-coordinates\"])]\n",
    "AIS[:3]\n",
    "crs=CRS.from_epsg(2698)\n",
    "geo_ship_traffic11=gpd.GeoDataFrame(ship_traffic11, crs=crs, geometry=AIS)\n",
    "#geo_ship_traffic07"
   ]
  },
  {
   "cell_type": "markdown",
   "id": "2d2b24bf",
   "metadata": {},
   "source": [
    "## All data used is from the corresponding month in 2016 to get an average of the 2013-2019 timeframe"
   ]
  },
  {
   "cell_type": "markdown",
   "id": "d85e86af",
   "metadata": {},
   "source": [
    "# April with Ship Traffic"
   ]
  },
  {
   "cell_type": "code",
   "execution_count": null,
   "id": "2b511ccf",
   "metadata": {},
   "outputs": [],
   "source": [
    "fg, ax =plt.subplots(figsize=(14,14))\n",
    "ax.set_xlim(175000, 375000)\n",
    "ax.set_ylim(800000, 950000)\n",
    "Bathymetry.plot(ax=ax, facecolor=\"white\", edgecolor='black')\n",
    "Massachusetts.plot(ax=ax, facecolor=\"brown\")\n",
    "Stellwagen.plot(ax=ax, facecolor='none',edgecolor='black', linewidth=3.0)\n",
    "geo_df04[geo_df04['Sp']==\"MN\"].plot(ax=ax, markersize=2, color=\"blue\", marker=\"o\", label=\"Humpback Whale\")\n",
    "geo_ship_traffic04.plot(ax=ax, markersize=1, color=\"pink\", marker=\".\", label=\"Average Ship traffic\", alpha=.4)\n",
    "plt.text(340000,805000, 'April', fontsize=35, backgroundcolor=\"white\", weight=\"bold\")\n",
    "plt.legend(prop={'size': 15})"
   ]
  },
  {
   "cell_type": "markdown",
   "id": "e0310105",
   "metadata": {},
   "source": [
    "# May with Ship Traffic"
   ]
  },
  {
   "cell_type": "code",
   "execution_count": null,
   "id": "197792d4",
   "metadata": {},
   "outputs": [],
   "source": [
    "fg, ax =plt.subplots(figsize=(14,14))\n",
    "ax.set_xlim(175000, 375000)\n",
    "ax.set_ylim(800000, 950000)\n",
    "Bathymetry.plot(ax=ax, facecolor=\"white\", edgecolor='black')\n",
    "Massachusetts.plot(ax=ax, facecolor=\"brown\")\n",
    "Stellwagen.plot(ax=ax, facecolor='none',edgecolor='black', linewidth=3.0)\n",
    "geo_df05[geo_df05['Sp']==\"MN\"].plot(ax=ax, markersize=2, color=\"blue\", marker=\"o\", label=\"Humpback Whale\")\n",
    "geo_ship_traffic05.plot(ax=ax, markersize=1, color=\"pink\", marker=\".\", label=\"Average Ship traffic\", alpha=.4)\n",
    "plt.text(340000,805000, 'May', fontsize=35, backgroundcolor=\"white\", weight=\"bold\")\n",
    "plt.legend(prop={'size': 15})"
   ]
  },
  {
   "cell_type": "markdown",
   "id": "2b22634d",
   "metadata": {},
   "source": [
    "# June with Ship Traffic"
   ]
  },
  {
   "cell_type": "code",
   "execution_count": null,
   "id": "2e786782",
   "metadata": {},
   "outputs": [],
   "source": [
    "fg, ax =plt.subplots(figsize=(14,14))\n",
    "ax.set_xlim(175000, 375000)\n",
    "ax.set_ylim(800000, 950000)\n",
    "Bathymetry.plot(ax=ax, facecolor=\"white\", edgecolor='black')\n",
    "Massachusetts.plot(ax=ax, facecolor=\"brown\")\n",
    "Stellwagen.plot(ax=ax, facecolor='none',edgecolor='black', linewidth=3.0)\n",
    "geo_df06[geo_df06['Sp']==\"MN\"].plot(ax=ax, markersize=2, color=\"blue\", marker=\"o\", label=\"Humpback Whale\")\n",
    "geo_ship_traffic06.plot(ax=ax, markersize=1, color=\"pink\", marker=\".\", label=\"Average Ship traffic\", alpha=.4)\n",
    "plt.text(340000,805000, 'June', fontsize=35, backgroundcolor=\"white\", weight=\"bold\")\n",
    "plt.legend(prop={'size': 15})"
   ]
  },
  {
   "cell_type": "markdown",
   "id": "f1db08f6",
   "metadata": {},
   "source": [
    "# July with Ship Traffic"
   ]
  },
  {
   "cell_type": "code",
   "execution_count": null,
   "id": "63d3e40c",
   "metadata": {},
   "outputs": [],
   "source": [
    "fg, ax =plt.subplots(figsize=(14,14))\n",
    "ax.set_xlim(175000, 375000)\n",
    "ax.set_ylim(800000, 950000)\n",
    "Bathymetry.plot(ax=ax, facecolor=\"white\", edgecolor='black')\n",
    "Massachusetts.plot(ax=ax, facecolor=\"brown\")\n",
    "Stellwagen.plot(ax=ax, facecolor='none',edgecolor='black', linewidth=3.0)\n",
    "geo_df07[geo_df07['Sp']==\"MN\"].plot(ax=ax, markersize=2, color=\"blue\", marker=\"o\", label=\"Humpback Whale\")\n",
    "geo_ship_traffic07.plot(ax=ax, markersize=1, color=\"pink\", marker=\".\", label=\"Average Ship traffic\", alpha=.4)\n",
    "plt.text(340000,805000, 'July', fontsize=35, backgroundcolor=\"white\", weight=\"bold\")\n",
    "plt.legend(prop={'size': 15})"
   ]
  },
  {
   "cell_type": "markdown",
   "id": "9cc5dd05",
   "metadata": {},
   "source": [
    "# August with Ship Traffic"
   ]
  },
  {
   "cell_type": "code",
   "execution_count": null,
   "id": "51553925",
   "metadata": {},
   "outputs": [],
   "source": [
    "fg, ax =plt.subplots(figsize=(14,14))\n",
    "ax.set_xlim(175000, 375000)\n",
    "ax.set_ylim(800000, 950000)\n",
    "Bathymetry.plot(ax=ax, facecolor=\"white\", edgecolor='black')\n",
    "Massachusetts.plot(ax=ax, facecolor=\"brown\")\n",
    "Stellwagen.plot(ax=ax, facecolor='none',edgecolor='black', linewidth=3.0)\n",
    "geo_df08[geo_df08['Sp']==\"MN\"].plot(ax=ax, markersize=2, color=\"blue\", marker=\"o\", label=\"Humpback Whale\")\n",
    "geo_ship_traffic08.plot(ax=ax, markersize=1, color=\"pink\", marker=\".\", label=\"Average Ship traffic\", alpha=.4)\n",
    "plt.text(335000,805000, 'August', fontsize=35, backgroundcolor=\"white\", weight=\"bold\")\n",
    "plt.legend(prop={'size': 15})"
   ]
  },
  {
   "cell_type": "markdown",
   "id": "63dda33e",
   "metadata": {},
   "source": [
    "# September with Ship Traffic"
   ]
  },
  {
   "cell_type": "code",
   "execution_count": null,
   "id": "d57e0e9e",
   "metadata": {},
   "outputs": [],
   "source": [
    "fg, ax =plt.subplots(figsize=(14,14))\n",
    "ax.set_xlim(175000, 375000)\n",
    "ax.set_ylim(800000, 950000)\n",
    "Bathymetry.plot(ax=ax, facecolor=\"white\", edgecolor='black')\n",
    "Massachusetts.plot(ax=ax, facecolor=\"brown\")\n",
    "Stellwagen.plot(ax=ax, facecolor='none',edgecolor='black', linewidth=3.0)\n",
    "geo_df09[geo_df09['Sp']==\"MN\"].plot(ax=ax, markersize=2, color=\"blue\", marker=\"o\", label=\"Humpback Whale\")\n",
    "geo_ship_traffic09.plot(ax=ax, markersize=1, color=\"pink\", marker=\".\", label=\"Average Ship traffic\", alpha=.4)\n",
    "plt.text(315000,805000, 'September', fontsize=35, backgroundcolor=\"white\", weight=\"bold\")\n",
    "plt.legend(prop={'size': 15})"
   ]
  },
  {
   "cell_type": "markdown",
   "id": "2cd61c45",
   "metadata": {},
   "source": [
    "# October with Ship Traffic"
   ]
  },
  {
   "cell_type": "code",
   "execution_count": null,
   "id": "52cb908e",
   "metadata": {},
   "outputs": [],
   "source": [
    "fg, ax =plt.subplots(figsize=(14,14))\n",
    "ax.set_xlim(175000, 375000)\n",
    "ax.set_ylim(800000, 950000)\n",
    "Bathymetry.plot(ax=ax, facecolor=\"white\", edgecolor='black')\n",
    "Massachusetts.plot(ax=ax, facecolor=\"brown\")\n",
    "Stellwagen.plot(ax=ax, facecolor='none',edgecolor='black', linewidth=3.0)\n",
    "geo_df10[geo_df10['Sp']==\"MN\"].plot(ax=ax, markersize=2, color=\"blue\", marker=\"o\", label=\"Humpback Whale\")\n",
    "geo_ship_traffic10.plot(ax=ax, markersize=1, color=\"pink\", marker=\".\", label=\"Average Ship traffic\", alpha=.4)\n",
    "plt.text(325000,805000, 'October', fontsize=35, backgroundcolor=\"white\", weight=\"bold\")\n",
    "plt.legend(prop={'size': 15})"
   ]
  },
  {
   "cell_type": "markdown",
   "id": "4b3f5c26",
   "metadata": {},
   "source": [
    "# November with Ship Traffic"
   ]
  },
  {
   "cell_type": "code",
   "execution_count": null,
   "id": "bc534a89",
   "metadata": {},
   "outputs": [],
   "source": [
    "fg, ax =plt.subplots(figsize=(14,14))\n",
    "ax.set_xlim(175000, 375000)\n",
    "ax.set_ylim(800000, 950000)\n",
    "Bathymetry.plot(ax=ax, facecolor=\"white\", edgecolor='black')\n",
    "Massachusetts.plot(ax=ax, facecolor=\"brown\")\n",
    "Stellwagen.plot(ax=ax, facecolor='none',edgecolor='black', linewidth=3.0)\n",
    "geo_df11[geo_df11['Sp']==\"MN\"].plot(ax=ax, markersize=2, color=\"blue\", marker=\"o\", label=\"Humpback Whale\")\n",
    "geo_ship_traffic11.plot(ax=ax, markersize=1, color=\"pink\", marker=\".\", label=\"Average Ship traffic\", alpha=.4)\n",
    "plt.text(320000,805000, 'November', fontsize=35, backgroundcolor=\"white\", weight=\"bold\")\n",
    "plt.legend(prop={'size': 15})"
   ]
  },
  {
   "cell_type": "markdown",
   "id": "88151d28",
   "metadata": {},
   "source": [
    "# Whales without ships"
   ]
  },
  {
   "cell_type": "markdown",
   "id": "f1bf6090",
   "metadata": {},
   "source": [
    "# April"
   ]
  },
  {
   "cell_type": "code",
   "execution_count": null,
   "id": "c7d39cf9",
   "metadata": {},
   "outputs": [],
   "source": [
    "fg, ax =plt.subplots(figsize=(14,14))\n",
    "ax.set_xlim(175000, 375000)\n",
    "ax.set_ylim(800000, 950000)\n",
    "Bathymetry.plot(ax=ax, facecolor=\"white\", edgecolor='black')\n",
    "Massachusetts.plot(ax=ax, facecolor=\"brown\")\n",
    "Stellwagen.plot(ax=ax, facecolor='none',edgecolor='black', linewidth=3.0)\n",
    "geo_df04[geo_df04['Sp']==\"MN\"].plot(ax=ax, markersize=2, color=\"blue\", marker=\"o\", label=\"Humpback Whale\")\n",
    "#geo_ship_traffic04.plot(ax=ax, markersize=1, color=\"pink\", marker=\".\", label=\"Average Ship traffic\", alpha=.4)\n",
    "plt.text(340000,805000, 'April', fontsize=35, backgroundcolor=\"white\", weight=\"bold\")\n",
    "plt.legend(prop={'size': 15})"
   ]
  },
  {
   "cell_type": "markdown",
   "id": "acbfe2c8",
   "metadata": {},
   "source": [
    "# May"
   ]
  },
  {
   "cell_type": "code",
   "execution_count": null,
   "id": "682a7723",
   "metadata": {
    "scrolled": false
   },
   "outputs": [],
   "source": [
    "fg, ax =plt.subplots(figsize=(14,14))\n",
    "ax.set_xlim(175000, 375000)\n",
    "ax.set_ylim(800000, 950000)\n",
    "Bathymetry.plot(ax=ax, facecolor=\"white\", edgecolor='black')\n",
    "Massachusetts.plot(ax=ax, facecolor=\"brown\")\n",
    "Stellwagen.plot(ax=ax, facecolor='none',edgecolor='black', linewidth=3.0)\n",
    "geo_df05[geo_df05['Sp']==\"MN\"].plot(ax=ax, markersize=2, color=\"blue\", marker=\"o\", label=\"Humpback Whale\")\n",
    "#geo_ship_traffic04.plot(ax=ax, markersize=1, color=\"pink\", marker=\".\", label=\"Average Ship traffic\", alpha=.4)\n",
    "plt.text(340000,805000, 'May', fontsize=35, backgroundcolor=\"white\", weight=\"bold\")\n",
    "plt.legend(prop={'size': 15})"
   ]
  },
  {
   "cell_type": "markdown",
   "id": "79179bab",
   "metadata": {},
   "source": [
    "# June"
   ]
  },
  {
   "cell_type": "code",
   "execution_count": null,
   "id": "ea9444ae",
   "metadata": {},
   "outputs": [],
   "source": [
    "fg, ax =plt.subplots(figsize=(14,14))\n",
    "ax.set_xlim(175000, 375000)\n",
    "ax.set_ylim(800000, 950000)\n",
    "Bathymetry.plot(ax=ax, facecolor=\"white\", edgecolor='black')\n",
    "Massachusetts.plot(ax=ax, facecolor=\"brown\")\n",
    "Stellwagen.plot(ax=ax, facecolor='none',edgecolor='black', linewidth=3.0)\n",
    "geo_df06[geo_df06['Sp']==\"MN\"].plot(ax=ax, markersize=2, color=\"blue\", marker=\"o\", label=\"Humpback Whale\")\n",
    "#geo_ship_traffic04.plot(ax=ax, markersize=1, color=\"pink\", marker=\".\", label=\"Average Ship traffic\", alpha=.4)\n",
    "plt.text(340000,805000, 'June', fontsize=35, backgroundcolor=\"white\", weight=\"bold\")\n",
    "plt.legend(prop={'size': 15})"
   ]
  },
  {
   "cell_type": "markdown",
   "id": "35215703",
   "metadata": {},
   "source": [
    "# July"
   ]
  },
  {
   "cell_type": "code",
   "execution_count": null,
   "id": "a2740942",
   "metadata": {},
   "outputs": [],
   "source": [
    "fg, ax =plt.subplots(figsize=(14,14))\n",
    "ax.set_xlim(175000, 375000)\n",
    "ax.set_ylim(800000, 950000)\n",
    "Bathymetry.plot(ax=ax, facecolor=\"white\", edgecolor='black')\n",
    "Massachusetts.plot(ax=ax, facecolor=\"brown\")\n",
    "Stellwagen.plot(ax=ax, facecolor='none',edgecolor='black', linewidth=3.0)\n",
    "geo_df07[geo_df07['Sp']==\"MN\"].plot(ax=ax, markersize=2, color=\"blue\", marker=\"o\", label=\"Humpback Whale\")\n",
    "#geo_ship_traffic04.plot(ax=ax, markersize=1, color=\"pink\", marker=\".\", label=\"Average Ship traffic\", alpha=.4)\n",
    "plt.text(340000,805000, 'July', fontsize=35, backgroundcolor=\"white\", weight=\"bold\")\n",
    "plt.legend(prop={'size': 15})"
   ]
  },
  {
   "cell_type": "markdown",
   "id": "29dc4fdf",
   "metadata": {},
   "source": [
    "# August"
   ]
  },
  {
   "cell_type": "code",
   "execution_count": null,
   "id": "31858d91",
   "metadata": {},
   "outputs": [],
   "source": [
    "fg, ax =plt.subplots(figsize=(14,14))\n",
    "ax.set_xlim(175000, 375000)\n",
    "ax.set_ylim(800000, 950000)\n",
    "Bathymetry.plot(ax=ax, facecolor=\"white\", edgecolor='black')\n",
    "Massachusetts.plot(ax=ax, facecolor=\"brown\")\n",
    "Stellwagen.plot(ax=ax, facecolor='none',edgecolor='black', linewidth=3.0)\n",
    "geo_df08[geo_df08['Sp']==\"MN\"].plot(ax=ax, markersize=2, color=\"blue\", marker=\"o\", label=\"Humpback Whale\")\n",
    "#geo_ship_traffic04.plot(ax=ax, markersize=1, color=\"pink\", marker=\".\", label=\"Average Ship traffic\", alpha=.4)\n",
    "plt.text(335000,805000, 'August', fontsize=35, backgroundcolor=\"white\", weight=\"bold\")\n",
    "plt.legend(prop={'size': 15})"
   ]
  },
  {
   "cell_type": "markdown",
   "id": "fd0de316",
   "metadata": {},
   "source": [
    "# September"
   ]
  },
  {
   "cell_type": "code",
   "execution_count": null,
   "id": "65e2afd8",
   "metadata": {},
   "outputs": [],
   "source": [
    "fg, ax =plt.subplots(figsize=(14,14))\n",
    "ax.set_xlim(175000, 375000)\n",
    "ax.set_ylim(800000, 950000)\n",
    "Bathymetry.plot(ax=ax, facecolor=\"white\", edgecolor='black')\n",
    "Massachusetts.plot(ax=ax, facecolor=\"brown\")\n",
    "Stellwagen.plot(ax=ax, facecolor='none',edgecolor='black', linewidth=3.0)\n",
    "geo_df09[geo_df09['Sp']==\"MN\"].plot(ax=ax, markersize=2, color=\"blue\", marker=\"o\", label=\"Humpback Whale\")\n",
    "#geo_ship_traffic04.plot(ax=ax, markersize=1, color=\"pink\", marker=\".\", label=\"Average Ship traffic\", alpha=.4)\n",
    "plt.text(315000,805000, 'September', fontsize=35, backgroundcolor=\"white\", weight=\"bold\")\n",
    "plt.legend(prop={'size': 15})"
   ]
  },
  {
   "cell_type": "markdown",
   "id": "ebc28109",
   "metadata": {},
   "source": [
    "# October"
   ]
  },
  {
   "cell_type": "code",
   "execution_count": null,
   "id": "9e11e65e",
   "metadata": {},
   "outputs": [],
   "source": [
    "fg, ax =plt.subplots(figsize=(14,14))\n",
    "ax.set_xlim(175000, 375000)\n",
    "ax.set_ylim(800000, 950000)\n",
    "Bathymetry.plot(ax=ax, facecolor=\"white\", edgecolor='black')\n",
    "Massachusetts.plot(ax=ax, facecolor=\"brown\")\n",
    "Stellwagen.plot(ax=ax, facecolor='none',edgecolor='black', linewidth=3.0)\n",
    "geo_df10[geo_df10['Sp']==\"MN\"].plot(ax=ax, markersize=2, color=\"blue\", marker=\"o\", label=\"Humpback Whale\")\n",
    "#geo_ship_traffic04.plot(ax=ax, markersize=1, color=\"pink\", marker=\".\", label=\"Average Ship traffic\", alpha=.4)\n",
    "plt.text(325000,805000, 'October', fontsize=35, backgroundcolor=\"white\", weight=\"bold\")\n",
    "plt.legend(prop={'size': 15})"
   ]
  },
  {
   "cell_type": "markdown",
   "id": "eafe51ab",
   "metadata": {},
   "source": [
    "# November"
   ]
  },
  {
   "cell_type": "code",
   "execution_count": null,
   "id": "e09f0425",
   "metadata": {},
   "outputs": [],
   "source": [
    "fg, ax =plt.subplots(figsize=(14,14))\n",
    "ax.set_xlim(175000, 375000)\n",
    "ax.set_ylim(800000, 950000)\n",
    "Bathymetry.plot(ax=ax, facecolor=\"white\", edgecolor='black')\n",
    "Massachusetts.plot(ax=ax, facecolor=\"brown\")\n",
    "Stellwagen.plot(ax=ax, facecolor='none',edgecolor='black', linewidth=3.0)\n",
    "geo_df11[geo_df11['Sp']==\"MN\"].plot(ax=ax, markersize=2, color=\"blue\", marker=\"o\", label=\"Humpback Whale\")\n",
    "#geo_ship_traffic04.plot(ax=ax, markersize=1, color=\"pink\", marker=\".\", label=\"Average Ship traffic\", alpha=.4)\n",
    "plt.text(320000,805000, 'Novmeber', fontsize=35, backgroundcolor=\"white\", weight=\"bold\")\n",
    "plt.legend(prop={'size': 15})"
   ]
  }
 ],
 "metadata": {
  "kernelspec": {
   "display_name": "Python 3",
   "language": "python",
   "name": "python3"
  },
  "language_info": {
   "codemirror_mode": {
    "name": "ipython",
    "version": 3
   },
   "file_extension": ".py",
   "mimetype": "text/x-python",
   "name": "python",
   "nbconvert_exporter": "python",
   "pygments_lexer": "ipython3",
   "version": "3.8.8"
  }
 },
 "nbformat": 4,
 "nbformat_minor": 5
}
